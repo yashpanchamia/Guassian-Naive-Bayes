{
 "cells": [
  {
   "cell_type": "code",
   "execution_count": 60,
   "metadata": {},
   "outputs": [],
   "source": [
    "import pandas as pd\n",
    "import math\n",
    "import numpy as np\n",
    "headers = ['char_freq_semi_colon', 'char_freq_open_round_bracket', 'char_freq_open_square_bracket', \n",
    "           'char_freq_excl', 'char_freq_dollar','char_freq_percent', \n",
    "           'capital_run_length_average','capital_run_length_longest', 'capital_run_length_total','Label'] \n",
    "train = pd.read_csv('spambasetrain.csv',names=headers)\n",
    "test_with_label = pd.read_csv('spambasetest.csv',names=headers)\n",
    "test = test_with_label.drop('Label',axis=1)\n",
    "# test"
   ]
  },
  {
   "cell_type": "code",
   "execution_count": 40,
   "metadata": {},
   "outputs": [
    {
     "name": "stdout",
     "output_type": "stream",
     "text": [
      "0.4018006002000667\n"
     ]
    },
    {
     "data": {
      "text/plain": [
       "0.5981993997999333"
      ]
     },
     "execution_count": 40,
     "metadata": {},
     "output_type": "execute_result"
    }
   ],
   "source": [
    "#Calculating p(C=1)\n",
    "# train['Label'].value_counts()\n",
    "number_of_class_1 = len(train[train['Label'] == 1])\n",
    "prob_class_1 = number_of_class_1/len(train)\n",
    "print(prob_class_1)\n",
    "number_of_class_0 = len(train[train['Label'] == 0])\n",
    "prob_class_0 = number_of_class_0/len(train)\n",
    "prob_class_0"
   ]
  },
  {
   "cell_type": "code",
   "execution_count": 45,
   "metadata": {},
   "outputs": [
    {
     "name": "stdout",
     "output_type": "stream",
     "text": [
      "[0.048425863991081425, 0.1574866220735784, 0.016959866220735784, 0.1107129319955407, 0.011502787068004453, 0.025892419175027874, 2.376589743589742, 18.182274247491637, 164.1432552954292]\n",
      "----------\n",
      "[0.08830560325706198, 0.07017977477910134, 0.0048453525434288824, 0.4175878746012103, 0.0040801330095175435, 0.08926887910591583, 37.447270639180786, 1915.2668133413704, 144134.16853507495]\n",
      "----------\n",
      "[0.02024730290456431, 0.10343900414937772, 0.007847302904564315, 0.49166224066390096, 0.1731510373443983, 0.08490124481327807, 9.496346887966812, 97.2091286307054, 453.5128630705394]\n",
      "----------\n",
      "[0.007542280983168099, 0.03214333120166527, 0.002416074670875807, 0.5477920976178997, 0.12997566487641313, 0.5272832767841686, 2965.9844858446845, 36369.99111261216, 614182.1204739377]\n"
     ]
    }
   ],
   "source": [
    "#Calculating mean and variance for Class 1\n",
    "train_class_1 = train[train['Label']==1]\n",
    "train_class_0 = train[train['Label']==0]\n",
    "mean_class_1 = []\n",
    "var_class_1 = []\n",
    "train_class_1_mean = train_class_1.mean()\n",
    "train_class_1_var = train_class_1.var(ddof=1)\n",
    "for i in range(len(train_class_1_mean)-1):\n",
    "    mean_class_1.insert(i,train_class_1_mean[i])\n",
    "    var_class_1.insert(i,train_class_1_var[i])\n",
    "\n",
    "#Calculating mean and variance for Class 0\n",
    "mean_class_0 = []\n",
    "var_class_0 = []\n",
    "train_class_0_mean = train_class_0.mean()\n",
    "train_class_0_var = train_class_0.var(ddof=1)\n",
    "for i in range(len(train_class_0_mean)-1):\n",
    "    mean_class_0.insert(i,train_class_0_mean[i])    \n",
    "    var_class_0.insert(i,train_class_0_var[i])\n",
    "\n",
    "print(mean_class_0)\n",
    "print(\"----------\")\n",
    "print(var_class_0)\n",
    "print(\"----------\")\n",
    "print(mean_class_1)\n",
    "print(\"----------\")\n",
    "print(var_class_1)"
   ]
  },
  {
   "cell_type": "code",
   "execution_count": 28,
   "metadata": {
    "collapsed": true
   },
   "outputs": [],
   "source": [
    "def mean(df):\n",
    "    return df.mean()\n",
    "def variance(df):\n",
    "    return df.var()"
   ]
  },
  {
   "cell_type": "code",
   "execution_count": 56,
   "metadata": {},
   "outputs": [],
   "source": [
    "def pdf(mean,variance,x):\n",
    "    temp = -((x-mean)**2) / (2*variance)\n",
    "    pdf_value = (1/(((2*math.pi)**0.5)*variance**0.5)) * (math.exp(temp))\n",
    "    return pdf_value"
   ]
  },
  {
   "cell_type": "code",
   "execution_count": 59,
   "metadata": {},
   "outputs": [],
   "source": [
    "#Calculating probability density function for all (mean,variance) for class1\n",
    "import numpy as np\n",
    "predicted_labels = []\n",
    "for i in range(len(test)):\n",
    "    pdf_col_class_1=0\n",
    "    pdf_col_class_0=0\n",
    "    for j in range(len(test.columns)):\n",
    "#         print(\"TEST\",test.iloc[i,j])\n",
    "#         print(\"Mean\",mean_class_0[j],\"Var\",var_class_0[j])\n",
    "        pdf_col_class_1 += np.log(pdf(mean_class_1[j],var_class_1[j],test.iloc[i,j]))\n",
    "        pdf_col_class_0 += np.log(pdf(mean_class_0[j],var_class_0[j],test.iloc[i,j]))\n",
    "#         print(\"PDF class 0\",pdf_col_class_0)\n",
    "#         print(\"PDF class 1\",pdf_col_class_1)\n",
    "        \n",
    "    if(np.log(prob_class_1) + pdf_col_class_1>np.log(prob_class_0)+ pdf_col_class_0):\n",
    "        predicted_labels.append(1)\n",
    "    else:\n",
    "        predicted_labels.append(0)\n",
    "# (predicted_labels)\n",
    "        "
   ]
  },
  {
   "cell_type": "code",
   "execution_count": 62,
   "metadata": {},
   "outputs": [
    {
     "name": "stdout",
     "output_type": "stream",
     "text": [
      "Accuracy:  80.0 %\n"
     ]
    }
   ],
   "source": [
    "label = test_with_label['Label']\n",
    "count = 0\n",
    "for i in range(len(label)):\n",
    "    if label[i]==predicted_labels[i]:\n",
    "        count+=1\n",
    "accuracy = count/len(label)\n",
    "print(\"Accuracy: \",accuracy*100,\"%\")"
   ]
  },
  {
   "cell_type": "code",
   "execution_count": 63,
   "metadata": {},
   "outputs": [
    {
     "name": "stdout",
     "output_type": "stream",
     "text": [
      "[0, 0, 0, 0, 0, 0, 0, 0, 0, 0, 0, 0, 0, 0, 0, 0, 0, 0, 0, 1, 1, 0, 1, 1, 0, 0, 1, 1, 0, 0, 1, 0, 0, 0, 0, 0, 0, 0, 0, 0, 0, 0, 1, 0, 0, 0, 0, 0, 0, 0, 0, 0, 0, 0, 0, 0, 0, 0, 0, 0, 0, 0, 0, 1, 0, 1, 0, 0, 0, 0, 0, 0, 0, 0, 0, 0, 0, 1, 1, 0, 0, 0, 0, 1, 0, 0, 0, 1, 0, 1, 1, 0, 0, 0, 0, 0, 1, 0, 0, 0, 1, 1, 1, 1, 0, 1, 0, 0, 0, 0, 0, 1, 0, 1, 0, 0, 0, 0, 0, 0, 0, 0, 0, 1, 0, 0, 1, 1, 1, 1, 0, 0, 1, 0, 1, 0, 0, 0, 0, 0, 0, 0, 0, 1, 1, 0, 0, 0, 0, 0, 1, 0, 0, 0, 1, 0, 0, 0, 0, 0, 1, 1, 0, 0, 0, 1, 0, 0, 0, 0, 0, 0, 0, 0, 0, 1, 0, 0, 0, 0, 0, 0, 0, 0, 1, 0, 0, 0, 0, 1, 1, 0, 0, 0, 0, 0, 0, 0, 0, 0]\n"
     ]
    }
   ],
   "source": [
    "print(predicted_labels)"
   ]
  },
  {
   "cell_type": "code",
   "execution_count": 65,
   "metadata": {},
   "outputs": [
    {
     "name": "stdout",
     "output_type": "stream",
     "text": [
      "Total number of test examples classified correctly =  160\n",
      "Total number of test examples classified incorrectly =  40\n",
      "% Error =  20.0 %\n"
     ]
    }
   ],
   "source": [
    "print(\"Total number of test examples classified correctly = \",count)\n",
    "print(\"Total number of test examples classified incorrectly = \",len(predicted_labels)-count)\n",
    "print(\"% Error = \",100-(accuracy*100),\"%\")"
   ]
  },
  {
   "cell_type": "markdown",
   "metadata": {},
   "source": [
    "# Zero - R Algorithm\n"
   ]
  },
  {
   "cell_type": "code",
   "execution_count": 67,
   "metadata": {},
   "outputs": [
    {
     "name": "stdout",
     "output_type": "stream",
     "text": [
      "Accuracy =  59.0 %\n"
     ]
    }
   ],
   "source": [
    "if(len(train_class_0)>len(train_class_1)):\n",
    "    majority_class = 0\n",
    "else:\n",
    "    majority_class = 1\n",
    "    \n",
    "count=0 \n",
    "\n",
    "for i in range(len(label)):\n",
    "    if label[i] == majority_class:\n",
    "        count+=1\n",
    "\n",
    "accuracy = count/len(label)\n",
    "print(\"Accuracy = \",accuracy*100,\"%\")"
   ]
  }
 ],
 "metadata": {
  "kernelspec": {
   "display_name": "Python 3",
   "language": "python",
   "name": "python3"
  },
  "language_info": {
   "codemirror_mode": {
    "name": "ipython",
    "version": 3
   },
   "file_extension": ".py",
   "mimetype": "text/x-python",
   "name": "python",
   "nbconvert_exporter": "python",
   "pygments_lexer": "ipython3",
   "version": "3.6.1"
  }
 },
 "nbformat": 4,
 "nbformat_minor": 2
}
